{
 "cells": [
  {
   "cell_type": "markdown",
   "id": "39b6d74a",
   "metadata": {},
   "source": [
    "### 1. What does an empty dictionary's code look like?\n",
    "\n",
    "A. The code of an empty dictionary is d = {}\n"
   ]
  },
  {
   "cell_type": "markdown",
   "id": "570e58df",
   "metadata": {},
   "source": [
    "### 2. What is the value of a dictionary value with the key 'foo' and the value 42?\n",
    "\n",
    "A. The dictionary value with key 'foo' and value 42 is {'foo' : 42}"
   ]
  },
  {
   "cell_type": "markdown",
   "id": "70e1e94f",
   "metadata": {},
   "source": [
    "### 3. What is the most significant distinction between a dictionary and a list?\n",
    "\n",
    "A. A list is a ordered sequence of objects, whereas dictionaries are unordered sets. Elements in dictionaries are key-value pairs. Items in dictionaries are accessed via keys and not via index.\n"
   ]
  },
  {
   "cell_type": "markdown",
   "id": "9eafc220",
   "metadata": {},
   "source": [
    "### 4. What happens if you try to access spam['foo'] if spam is {'bar': 100}?\n",
    "\n",
    "A. If the key is not present in dictionary and we try to access that we get the key error"
   ]
  },
  {
   "cell_type": "markdown",
   "id": "1ae09658",
   "metadata": {},
   "source": [
    "### 5. If a dictionary is stored in spam, what is the difference between the expressions 'cat' in spam and 'cat' in spam.keys()?\n",
    "\n",
    "A. There is no much difference. 'cat' in spam checks if cat key is present in spam where as cat in spam.keys() checks for 'cat' in set of keys in spam"
   ]
  },
  {
   "cell_type": "markdown",
   "id": "c34e87dc",
   "metadata": {},
   "source": [
    "### 6. If a dictionary is stored in spam, what is the difference between the expressions 'cat' in spam and 'cat' in spam.values()?\n",
    "\n",
    "A. 'cat' in spam checks for the spam key in dictionary, where as 'cat' in spam.values() checks if 'cat' is present in values of spam or not."
   ]
  },
  {
   "cell_type": "markdown",
   "id": "211f6632",
   "metadata": {},
   "source": [
    "### 7. What is a shortcut for the following code?\n",
    "### if 'color' not in spam:\n",
    "### spam['color'] = 'black'\n"
   ]
  },
  {
   "cell_type": "code",
   "execution_count": 14,
   "id": "5fac4c25",
   "metadata": {},
   "outputs": [
    {
     "data": {
      "text/plain": [
       "'black'"
      ]
     },
     "execution_count": 14,
     "metadata": {},
     "output_type": "execute_result"
    }
   ],
   "source": [
    "spam = {}\n",
    "spam.setdefault('color','black')"
   ]
  },
  {
   "cell_type": "markdown",
   "id": "a16ccd45",
   "metadata": {},
   "source": [
    "### 8. How do you \"pretty print\" dictionary values using which module and function?\n",
    "\n",
    "A. Within the pprint module there is a function with the same name pprint() , which is the function used to pretty-print the given string or object.\n",
    "pprint.pprint()"
   ]
  },
  {
   "cell_type": "code",
   "execution_count": null,
   "id": "5cdd4a90",
   "metadata": {},
   "outputs": [],
   "source": []
  }
 ],
 "metadata": {
  "kernelspec": {
   "display_name": "Python 3 (ipykernel)",
   "language": "python",
   "name": "python3"
  },
  "language_info": {
   "codemirror_mode": {
    "name": "ipython",
    "version": 3
   },
   "file_extension": ".py",
   "mimetype": "text/x-python",
   "name": "python",
   "nbconvert_exporter": "python",
   "pygments_lexer": "ipython3",
   "version": "3.8.10"
  }
 },
 "nbformat": 4,
 "nbformat_minor": 5
}
