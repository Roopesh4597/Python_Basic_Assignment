{
 "cells": [
  {
   "cell_type": "markdown",
   "id": "6dd453da",
   "metadata": {},
   "source": [
    "1. In the below elements which of them are values or an expression? eg:- values can be integer or string and expressions will be mathematical operators.\n",
    "* \n",
    " 'hello'\n",
    " -87.8\n",
    " - \n",
    " / \n",
    "    • \n",
    " 6 \n",
    "\n",
    "A.In the above elements 'hello',-87.8,6 are values and *,/,-, are the mathematical operators\n",
    "\n",
    "2. What is the difference between string and variable?\n",
    "\n",
    "A. A variable is a reserved memory location to store values.A variable in puthon gives data to the computer for processing.Eg : a=10 here a is a varible or memory location storing the data.\n",
    "\n",
    "A String is a datatype in python. Python String are mentioned using '' or \"\". \n",
    "Eg: 'Hi I'm Roopesh' or \"Hi I'm Roopesh\"\n"
   ]
  },
  {
   "cell_type": "markdown",
   "id": "a8f5b7dd",
   "metadata": {},
   "source": [
    "3. Describe three different data types.\n",
    "\n",
    "A. The different data types are:\n",
    "Boolean Type : bool (True or False)\n",
    "Numeric types : int, float, complex types\n",
    "String types : str\n",
    "Sequence types : list, tuple"
   ]
  },
  {
   "cell_type": "markdown",
   "id": "5d1ed762",
   "metadata": {},
   "source": [
    "4. What is an expression made up of? What do all expressions do?\n",
    "\n",
    "A. An expression is made up of both operands and operators. In any programming language, an expression is evaluated as per precedence of the operators.\n"
   ]
  },
  {
   "cell_type": "markdown",
   "id": "2304f306",
   "metadata": {},
   "source": [
    "5. This assignment statements, like spam = 10. What is the difference between an expression and a statement?\n",
    "\n",
    "A. A statement does something. A statement represents an action or command. eg : a=10. Where as the expression is a combination of operators and operands and values that yield a result value. An expression is something that can reduce to a value Eg: c = a+b"
   ]
  },
  {
   "cell_type": "markdown",
   "id": "de422d5e",
   "metadata": {},
   "source": [
    "6.After running the following code, what does the variable bacon contain?\n",
    "bacon =22\n",
    "bacon + 1\n",
    "\n",
    "A. We will have 23 after executing the code. As this is not stored anywhere even if we run this multiple times it still stays as 23"
   ]
  },
  {
   "cell_type": "markdown",
   "id": "246e20ca",
   "metadata": {},
   "source": [
    "7. What should the values of the following two terms be?\n",
    "'spam' + 'spamspam'\n",
    "'spam' * 3\n",
    "\n",
    "A. Both retunrs the same output 'spamspamspam'"
   ]
  },
  {
   "cell_type": "markdown",
   "id": "ab88cf69",
   "metadata": {},
   "source": [
    "8. Why is eggs a valid variable name while 100 is invalid?\n",
    "\n",
    "A. Variables can start with letters or _\n",
    "Variables cannot start with numbers. Hence eggs is a valid variable and 100 is invalid"
   ]
  },
  {
   "cell_type": "markdown",
   "id": "09e74245",
   "metadata": {},
   "source": [
    "9. What three functions can be used to get the integer, floating-point number, or string version of a value?\n",
    "\n",
    "A. int(), float(), str() functions will evaluate to integer, float and string respectively."
   ]
  },
  {
   "cell_type": "markdown",
   "id": "9a20a796",
   "metadata": {},
   "source": [
    "10. Why does this expression cause an error? How can you fix it?\n",
    "'I have eaten ' + 99 + ' burritos.'\n",
    "\n",
    "A. The error is because of 99 an integer. we can fix it by converting the integer to a string, either by adding \n",
    "quotes or by putting inside the str()"
   ]
  },
  {
   "cell_type": "code",
   "execution_count": null,
   "id": "b610a44f",
   "metadata": {},
   "outputs": [],
   "source": []
  },
  {
   "cell_type": "code",
   "execution_count": null,
   "id": "fd488b22",
   "metadata": {},
   "outputs": [],
   "source": []
  }
 ],
 "metadata": {
  "kernelspec": {
   "display_name": "Python 3 (ipykernel)",
   "language": "python",
   "name": "python3"
  },
  "language_info": {
   "codemirror_mode": {
    "name": "ipython",
    "version": 3
   },
   "file_extension": ".py",
   "mimetype": "text/x-python",
   "name": "python",
   "nbconvert_exporter": "python",
   "pygments_lexer": "ipython3",
   "version": "3.8.10"
  }
 },
 "nbformat": 4,
 "nbformat_minor": 5
}
