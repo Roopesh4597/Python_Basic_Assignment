{
 "cells": [
  {
   "cell_type": "markdown",
   "id": "5c9ce3d8",
   "metadata": {},
   "source": [
    "### 1. What are escape characters, and how do you use them?\n",
    "\n",
    "A. The escape characters in python are: \n",
    "\n",
    "\\'====> adds a single quote eg: 'It\\'s all right'--->'It's all right'\n",
    "\n",
    "\\\\ ====> adds a back slash in the  string eg: 'I am \\\\Software engineer'----> 'I am \\Software engineer'\n",
    "\n",
    "\\n ====> moves cursor to the next line eg: 'Hello\\nWorld'\n",
    "\n",
    "\\r ====> carriage return, moves cursor to beginning of the line without moving to new line eg: 'Hello\\rWorld'\n",
    "\n",
    "\\t =====> tab spaces(4 spaces by default) eg :' This is \\t'\n"
   ]
  },
  {
   "cell_type": "markdown",
   "id": "9a6267d9",
   "metadata": {},
   "source": [
    "### 2. What do the escape characters n and t stand for?\n",
    "\n",
    "A. The escape character n (\\n) stands for new line\n",
    "\n",
    "  and \\t stands for tabspace(4 spaces)"
   ]
  },
  {
   "cell_type": "markdown",
   "id": "4e0797c1",
   "metadata": {},
   "source": [
    "### 3.What is the way to include backslash characters in a string?\n",
    "\n"
   ]
  },
  {
   "cell_type": "markdown",
   "id": "51c550bd",
   "metadata": {},
   "source": [
    "A. In order to include backslash characters inside a string then we use '\\\\'(double slash) inside a string"
   ]
  },
  {
   "cell_type": "markdown",
   "id": "7d225991",
   "metadata": {},
   "source": [
    "### 4. The string \"Howl's Moving Castle\" is a correct value. Why isn't the single quote character in the word Howl's not escaped a problem?\n",
    "\n",
    "A. If we want to escape the single quotes in a string: \n",
    "\n",
    "If you are wrapping up the string inside a single quotes then use \\' to escape this inside a string \n",
    "\n",
    "Ex : 'It\\'s a Friday'\n",
    "\n",
    "If you are wrapping up the string inside the double quotes then we need not use any escape characters when using a single quote inside a string\n",
    "\n",
    "Ex: \"It's a Friday\"\n"
   ]
  },
  {
   "cell_type": "markdown",
   "id": "6107f53b",
   "metadata": {},
   "source": [
    "### 5.How do you write a string of newlines if you don't want to use the n character?\n",
    "\n",
    "A. If you want to print the newline in a string without using n character we use end=\"\\<anycharacter\\>\" in a print statement.\n"
   ]
  },
  {
   "cell_type": "markdown",
   "id": "036ddb62",
   "metadata": {},
   "source": [
    "### 6. What are the values of the given expressions?\n",
    "### 'Hello, world!'[1]\n",
    "### 'Hello, world!'[0:5]\n",
    "### 'Hello, world!'[:5]\n",
    "### 'Hello, world!'[3:]"
   ]
  },
  {
   "cell_type": "code",
   "execution_count": 13,
   "id": "d6f15868",
   "metadata": {},
   "outputs": [
    {
     "data": {
      "text/plain": [
       "'lo,World'"
      ]
     },
     "execution_count": 13,
     "metadata": {},
     "output_type": "execute_result"
    }
   ],
   "source": [
    "'Hello,world'[1] #======> 'e'  ======> This will print the value at index 1\n",
    "'Hello,World'[0:5] #=====>'Hello' =====> This will go from index 0 to 4\n",
    "'Hello,World'[:5]  #=====> 'Hello' ==>Default start index will be 0\n",
    "'Hello,World'[3:] #======> 'lo,World' ======> This prints from index 3 to rest of the string"
   ]
  },
  {
   "cell_type": "markdown",
   "id": "3cba4712",
   "metadata": {},
   "source": [
    "### 7. What are the values of the following expressions?\n",
    "### 'Hello'.upper()\n",
    "### 'Hello'.upper().isupper()\n",
    "### 'Hello'.upper().lower()\n",
    "\n"
   ]
  },
  {
   "cell_type": "code",
   "execution_count": 16,
   "id": "2a6bd360",
   "metadata": {},
   "outputs": [
    {
     "data": {
      "text/plain": [
       "'hello'"
      ]
     },
     "execution_count": 16,
     "metadata": {},
     "output_type": "execute_result"
    }
   ],
   "source": [
    "'Hello'.upper() #HELLO\n",
    "'Hello'.upper().isupper() # True\n",
    "'Hello'.upper().lower() #hello\n"
   ]
  },
  {
   "cell_type": "markdown",
   "id": "6b391dfd",
   "metadata": {},
   "source": [
    "### 8. What are the values of the following expressions?\n",
    "### 'Remember, remember, the fifth of July.'.split()\n",
    "### '-'.join('There can only one.'.split())"
   ]
  },
  {
   "cell_type": "markdown",
   "id": "8c86c864",
   "metadata": {},
   "source": [
    "A. 'Remember, remember, the fifth of july.'.split() # ['Remember,','remember,','the','fifth','of','july.']\n",
    "\n",
    "'-'.join('There can only one.'.split())#'There-can-only-one.'"
   ]
  },
  {
   "cell_type": "markdown",
   "id": "ab43dd83",
   "metadata": {},
   "source": [
    "### 9. What are the methods for right-justifying, left-justifying, and centering a string?"
   ]
  },
  {
   "cell_type": "markdown",
   "id": "5ee01f64",
   "metadata": {},
   "source": [
    "### 10. What is the best way to remove whitespace characters from the start or end?\n",
    "\n"
   ]
  },
  {
   "cell_type": "raw",
   "id": "b2718d2a",
   "metadata": {},
   "source": [
    "A. We use Trim() method in order to remove whitespace characters from the start or end\n",
    "\n",
    "Eg: \"   This String   \".Trim()  #==> \"This String\" "
   ]
  },
  {
   "cell_type": "code",
   "execution_count": null,
   "id": "86aa02d6",
   "metadata": {},
   "outputs": [],
   "source": []
  }
 ],
 "metadata": {
  "kernelspec": {
   "display_name": "Python 3 (ipykernel)",
   "language": "python",
   "name": "python3"
  },
  "language_info": {
   "codemirror_mode": {
    "name": "ipython",
    "version": 3
   },
   "file_extension": ".py",
   "mimetype": "text/x-python",
   "name": "python",
   "nbconvert_exporter": "python",
   "pygments_lexer": "ipython3",
   "version": "3.8.10"
  }
 },
 "nbformat": 4,
 "nbformat_minor": 5
}
