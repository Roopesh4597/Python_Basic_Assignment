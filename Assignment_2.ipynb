{
 "cells": [
  {
   "cell_type": "markdown",
   "id": "95a5953a",
   "metadata": {},
   "source": [
    "#1. What are the two values of the Boolean data type? How do you write them?\n",
    "\n",
    "A. The two values of the Boolean data type are true and false. We write them as True, False respectively."
   ]
  },
  {
   "cell_type": "markdown",
   "id": "cbb3b9de",
   "metadata": {},
   "source": [
    "#2. What are the three different types of Boolean operators?\n",
    "\n",
    "A. The three different types of Boolean operators are AND, OR, NOT."
   ]
  },
  {
   "cell_type": "markdown",
   "id": "8c2d2cc3",
   "metadata": {},
   "source": [
    "#3. Make a list of each Boolean operator's truth tables (i.e. every possible combination of Boolean values for the operator and what it evaluate ).\n",
    "\n",
    "AND: \n",
    "x       y      x and y\n",
    "True   True    True\n",
    "True   False   False\n",
    "False  True    False\n",
    "False  False   False\n",
    "\n",
    "\n",
    "OR : \n",
    "x       y      x or y\n",
    "True   True    True\n",
    "True   False   True\n",
    "False  True    True\n",
    "False  False   False\n",
    "\n",
    "\n",
    "NOT:\n",
    "x     ~x    \n",
    "True  False\n",
    "False True"
   ]
  },
  {
   "cell_type": "code",
   "execution_count": 9,
   "id": "b3c3f167",
   "metadata": {},
   "outputs": [],
   "source": [
    "# 4. What are the values of the following expressions?\n",
    "# (5 > 4) and (3 == 5)\n",
    "# not (5 > 4)\n",
    "# (5 > 4) or (3 == 5)\n",
    "# not ((5 > 4) or (3 == 5))\n",
    "# (True and True) and (True == False)\n",
    "# (not False) or (not True)\n",
    "\n"
   ]
  },
  {
   "cell_type": "code",
   "execution_count": 10,
   "id": "07e07566",
   "metadata": {},
   "outputs": [
    {
     "data": {
      "text/plain": [
       "False"
      ]
     },
     "execution_count": 10,
     "metadata": {},
     "output_type": "execute_result"
    }
   ],
   "source": [
    "(5>4) and (3==5) #5>4->True 3==5->False ==> True and False = False"
   ]
  },
  {
   "cell_type": "code",
   "execution_count": 11,
   "id": "23349114",
   "metadata": {},
   "outputs": [
    {
     "data": {
      "text/plain": [
       "False"
      ]
     },
     "execution_count": 11,
     "metadata": {},
     "output_type": "execute_result"
    }
   ],
   "source": [
    "not(5>4)#5>4 = True, not(True) = False"
   ]
  },
  {
   "cell_type": "code",
   "execution_count": 12,
   "id": "84f6e81b",
   "metadata": {},
   "outputs": [
    {
     "data": {
      "text/plain": [
       "True"
      ]
     },
     "execution_count": 12,
     "metadata": {},
     "output_type": "execute_result"
    }
   ],
   "source": [
    "(5>4) or (3==5)#5>4 = True 3==5 False , True or False ==> True\n"
   ]
  },
  {
   "cell_type": "code",
   "execution_count": 13,
   "id": "0e52a057",
   "metadata": {},
   "outputs": [
    {
     "data": {
      "text/plain": [
       "False"
      ]
     },
     "execution_count": 13,
     "metadata": {},
     "output_type": "execute_result"
    }
   ],
   "source": [
    "not((5>4) or (3==5)) #5>4 = True, 3==5 False, True or False ==> False"
   ]
  },
  {
   "cell_type": "code",
   "execution_count": 14,
   "id": "f8cdae2b",
   "metadata": {},
   "outputs": [
    {
     "data": {
      "text/plain": [
       "False"
      ]
     },
     "execution_count": 14,
     "metadata": {},
     "output_type": "execute_result"
    }
   ],
   "source": [
    "(True and True) and (True == False) #True and True = True , True == False => False, True and False = False"
   ]
  },
  {
   "cell_type": "code",
   "execution_count": 15,
   "id": "e9fa7506",
   "metadata": {},
   "outputs": [
    {
     "data": {
      "text/plain": [
       "False"
      ]
     },
     "execution_count": 15,
     "metadata": {},
     "output_type": "execute_result"
    }
   ],
   "source": [
    "(not False) and (not True) #not False = True , not True = False , (not False) and (not True) = False"
   ]
  },
  {
   "cell_type": "markdown",
   "id": "72ac373e",
   "metadata": {},
   "source": [
    "#5. What are the six comparison operators?\n",
    "\n",
    "The Six comparision operators are \n",
    "\n",
    "greater than(>),\n",
    "\n",
    "greater than or equal to(>=),\n",
    "\n",
    "less than(<),\n",
    "\n",
    "leass than or equal to(<=),\n",
    "\n",
    "equal to(==),\n",
    "\n",
    "not equal to(!=)\n"
   ]
  },
  {
   "cell_type": "markdown",
   "id": "a10bff2c",
   "metadata": {},
   "source": [
    "#6. How do you tell the difference between the equal to and assignment operators?Describe a condition and when you would use one.\n",
    "\n",
    "A. In Python = is treated as assignment operator and == is treated as equal to operator.\n",
    "\n",
    "Whenever we use = operator the value is assigned to the variable. We use == to compare two values and it returns either True or False"
   ]
  },
  {
   "cell_type": "markdown",
   "id": "c257e3a8",
   "metadata": {},
   "source": [
    "7. Identify the three blocks in this code:\n",
    "\n",
    "spam = 0\n",
    "\n",
    "if spam == 10:======================> block1\n",
    "\n",
    "print('eggs')\n",
    "\n",
    "if spam > 5: =======================>block2\n",
    "\n",
    "print('bacon')\n",
    "\n",
    "else: =============================>block3\n",
    "\n",
    "print('ham')\n",
    "\n",
    "print('spam')\n",
    "\n",
    "print('spam')"
   ]
  },
  {
   "cell_type": "code",
   "execution_count": 22,
   "id": "009cea17",
   "metadata": {},
   "outputs": [
    {
     "name": "stdout",
     "output_type": "stream",
     "text": [
      "Enter a number 1\n",
      "Hello\n"
     ]
    }
   ],
   "source": [
    "'''8. Write code that prints Hello if 1 is stored in spam, \n",
    "prints Howdy if 2 is stored in spam, \n",
    "and prints Greetings! if anything else is stored in spam.'''\n",
    "spam = int(input(\"Enter a number \"))\n",
    "if spam == 1:\n",
    "    print(\"Hello\")\n",
    "elif spam ==2:\n",
    "    print(\"Howdy\")\n",
    "else:\n",
    "    print(\"Greetings!\")"
   ]
  },
  {
   "cell_type": "markdown",
   "id": "d92c36b4",
   "metadata": {},
   "source": [
    "#9.If your programme is stuck in an endless loop, what keys you’ll press?\n",
    "A. If your program is stuck in an endless loop we use CTRL + c inorder to stop this "
   ]
  },
  {
   "cell_type": "markdown",
   "id": "cac1cff6",
   "metadata": {},
   "source": [
    "#10. How can you tell the difference between break and continue?\n",
    "A. Break will break the loop that it is executing and continues to execute the rest of the code. When continue is met it skips the present iteration and move on to the next iteration.\n"
   ]
  },
  {
   "cell_type": "markdown",
   "id": "2183bb13",
   "metadata": {},
   "source": [
    "#11 In a for loop, what is the difference between range(10), range(0, 10), and range(0, 10, 1)?\n",
    "\n",
    "A. In a for loop the difference between range(10), range(0,10) and range(0, 10,1)\n",
    "\n",
    "range(10) ===> This will start from 0 and include all the whole numbers except the number that user have provided.\n",
    "\n",
    "range(0,10) ===> This will start from 0 and executes till 10-1 = 9. Here starting value and one more than the end \n",
    "value are given. range(startpoint,endpoint). Here by default the incerement value is 1.\n",
    "\n",
    "range(0,10,1)===> This has starting value, end value and step size(increment). Here value starts from 0 and gives till 9 \n"
   ]
  },
  {
   "cell_type": "code",
   "execution_count": 23,
   "id": "6b5aee95",
   "metadata": {},
   "outputs": [
    {
     "name": "stdout",
     "output_type": "stream",
     "text": [
      "0 1 2 3 4 5 6 7 8 9 "
     ]
    }
   ],
   "source": [
    "#12 Write a short program that prints the numbers 1 to 10 using a for loop. \n",
    "#Then write an equivalent program that prints the numbers 1 to 10 using a while loop?\n",
    "\n",
    "for i in range(10):\n",
    "    print(i, end=\" \")\n",
    "    "
   ]
  },
  {
   "cell_type": "code",
   "execution_count": 24,
   "id": "59bcf5ae",
   "metadata": {},
   "outputs": [
    {
     "name": "stdout",
     "output_type": "stream",
     "text": [
      "0 1 2 3 4 5 6 7 8 9 "
     ]
    }
   ],
   "source": [
    "i = 0\n",
    "while i<10:\n",
    "    print(i, end =\" \")\n",
    "    i = i+1"
   ]
  },
  {
   "cell_type": "markdown",
   "id": "1cdfcd31",
   "metadata": {},
   "source": [
    "#13. If you had a function named bacon() inside a module named spam, how would you call it after importing spam?\n",
    "\n",
    "A. If we had a function named bacon() inside a module named spam then after importing we will call it as \n",
    "spam.bacon()"
   ]
  }
 ],
 "metadata": {
  "kernelspec": {
   "display_name": "Python 3 (ipykernel)",
   "language": "python",
   "name": "python3"
  },
  "language_info": {
   "codemirror_mode": {
    "name": "ipython",
    "version": 3
   },
   "file_extension": ".py",
   "mimetype": "text/x-python",
   "name": "python",
   "nbconvert_exporter": "python",
   "pygments_lexer": "ipython3",
   "version": "3.8.10"
  }
 },
 "nbformat": 4,
 "nbformat_minor": 5
}
