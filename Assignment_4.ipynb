{
 "cells": [
  {
   "cell_type": "markdown",
   "id": "029295ef",
   "metadata": {},
   "source": [
    "### 1. What exactly is []?\n",
    "A. [] is an empty list."
   ]
  },
  {
   "cell_type": "markdown",
   "id": "f1d4593c",
   "metadata": {},
   "source": [
    "### 2. In a list of values stored in a variable called spam, how would you assign the value 'hello' as the third value? (Assume [2, 4, 6, 8, 10] are in spam.)\n"
   ]
  },
  {
   "cell_type": "code",
   "execution_count": 4,
   "id": "9fe5a2d0",
   "metadata": {},
   "outputs": [
    {
     "data": {
      "text/plain": [
       "[2, 4, 'hello', 6, 8, 10]"
      ]
     },
     "execution_count": 4,
     "metadata": {},
     "output_type": "execute_result"
    }
   ],
   "source": [
    "spam=[2,4,6,8,10]\n",
    "#inserting \"hello\" as a 3rd value\n",
    "spam.insert(2,\"hello\")\n",
    "spam"
   ]
  },
  {
   "cell_type": "markdown",
   "id": "b6da2b09",
   "metadata": {},
   "source": [
    "### 3. What is the value of spam[int(int('3' * 2) / 11)]?\n"
   ]
  },
  {
   "cell_type": "code",
   "execution_count": 9,
   "id": "f83900c8",
   "metadata": {},
   "outputs": [
    {
     "data": {
      "text/plain": [
       "6"
      ]
     },
     "execution_count": 9,
     "metadata": {},
     "output_type": "execute_result"
    }
   ],
   "source": [
    "spam[int(int('3'*2)/11)]\n",
    "#'3'*2 = '33'\n",
    "#int('33')= 33\n",
    "#33/11=3.0==> float type\n",
    "#int(33/11)=3\n",
    "#spam[3] = 6\n"
   ]
  },
  {
   "cell_type": "markdown",
   "id": "2e04838e",
   "metadata": {},
   "source": [
    "### 4. What is the value of spam[-1]?"
   ]
  },
  {
   "cell_type": "code",
   "execution_count": 10,
   "id": "9965107f",
   "metadata": {},
   "outputs": [
    {
     "data": {
      "text/plain": [
       "10"
      ]
     },
     "execution_count": 10,
     "metadata": {},
     "output_type": "execute_result"
    }
   ],
   "source": [
    "spam[-1] #10"
   ]
  },
  {
   "cell_type": "markdown",
   "id": "fb9d909b",
   "metadata": {},
   "source": [
    "### 5. What is the value of spam[:2]?"
   ]
  },
  {
   "cell_type": "code",
   "execution_count": 11,
   "id": "0c80a440",
   "metadata": {},
   "outputs": [
    {
     "data": {
      "text/plain": [
       "[2, 4]"
      ]
     },
     "execution_count": 11,
     "metadata": {},
     "output_type": "execute_result"
    }
   ],
   "source": [
    "spam[:2]#[2,4]"
   ]
  },
  {
   "cell_type": "markdown",
   "id": "99d90a6e",
   "metadata": {},
   "source": [
    " ### Let's pretend bacon has the list [3.14, 'cat,' 11, 'cat,' True] for the next three questions."
   ]
  },
  {
   "cell_type": "markdown",
   "id": "d43a4aae",
   "metadata": {},
   "source": [
    "### 6. What is the value of bacon.index('cat')?"
   ]
  },
  {
   "cell_type": "code",
   "execution_count": 13,
   "id": "6a336af8",
   "metadata": {},
   "outputs": [
    {
     "data": {
      "text/plain": [
       "1"
      ]
     },
     "execution_count": 13,
     "metadata": {},
     "output_type": "execute_result"
    }
   ],
   "source": [
    "bacon = [3.14,'cat',11,'cat',True]\n",
    "bacon.index('cat')#1"
   ]
  },
  {
   "cell_type": "markdown",
   "id": "0ec7cd8f",
   "metadata": {},
   "source": [
    "### 7. How does bacon.append(99) change the look of the list value in bacon?"
   ]
  },
  {
   "cell_type": "code",
   "execution_count": 14,
   "id": "dff963a0",
   "metadata": {},
   "outputs": [],
   "source": [
    "bacon.append(99)\n",
    "#This will add 99 at the end of the list"
   ]
  },
  {
   "cell_type": "code",
   "execution_count": 15,
   "id": "f58ab6c4",
   "metadata": {},
   "outputs": [
    {
     "data": {
      "text/plain": [
       "[3.14, 'cat', 11, 'cat', True, 99]"
      ]
     },
     "execution_count": 15,
     "metadata": {},
     "output_type": "execute_result"
    }
   ],
   "source": [
    "bacon"
   ]
  },
  {
   "cell_type": "markdown",
   "id": "c4e6104a",
   "metadata": {},
   "source": [
    "### 8. How does bacon.remove('cat') change the look of the list in bacon?"
   ]
  },
  {
   "cell_type": "code",
   "execution_count": 16,
   "id": "9879bc47",
   "metadata": {},
   "outputs": [
    {
     "data": {
      "text/plain": [
       "[3.14, 11, 'cat', True, 99]"
      ]
     },
     "execution_count": 16,
     "metadata": {},
     "output_type": "execute_result"
    }
   ],
   "source": [
    "bacon.remove('cat')#Thid removes the first occurance of 'cat' from the list\n",
    "bacon"
   ]
  },
  {
   "cell_type": "markdown",
   "id": "8ba18840",
   "metadata": {},
   "source": [
    "### 9. What are the list concatenation and list replication operators?"
   ]
  },
  {
   "cell_type": "markdown",
   "id": "fe6d8c87",
   "metadata": {},
   "source": [
    "The list concatenation operator is '+'\n",
    "\n",
    "The list replication operator is '*'"
   ]
  },
  {
   "cell_type": "markdown",
   "id": "f49f0c5f",
   "metadata": {},
   "source": [
    "### 10. What is difference between the list methods append() and insert()?\n",
    "\n",
    "A. append(element) will add the elements at the end of the list\n",
    "\n",
    "insert(location,element) will add the given element at the specified location"
   ]
  },
  {
   "cell_type": "code",
   "execution_count": 17,
   "id": "8564a2ee",
   "metadata": {},
   "outputs": [
    {
     "data": {
      "text/plain": [
       "[1, 2, 3, 4, 5]"
      ]
     },
     "execution_count": 17,
     "metadata": {},
     "output_type": "execute_result"
    }
   ],
   "source": [
    "#append eg:\n",
    "l = [1,2,3,4]\n",
    "l.append(5)#adds the element at the end\n",
    "l"
   ]
  },
  {
   "cell_type": "code",
   "execution_count": 18,
   "id": "93c7a3bb",
   "metadata": {},
   "outputs": [
    {
     "data": {
      "text/plain": [
       "[1, 10, 2, 3, 4, 5]"
      ]
     },
     "execution_count": 18,
     "metadata": {},
     "output_type": "execute_result"
    }
   ],
   "source": [
    "#insert eg:\n",
    "l.insert(1,10)#adds the element at given location\n",
    "l"
   ]
  },
  {
   "cell_type": "markdown",
   "id": "ad268565",
   "metadata": {},
   "source": [
    "### 11. What are the two methods for removing items from a list?"
   ]
  },
  {
   "cell_type": "markdown",
   "id": "11da667c",
   "metadata": {},
   "source": [
    "The two methods of removing the items from a list are :\n",
    "\n",
    "remove(element)\n",
    "\n",
    "Eg: l.remove(1) ===> removes the first occurance element 1 from list\n",
    "remove does not store the element\n",
    "\n",
    "pop(index)\n",
    "\n",
    "Eg: a=l.pop(1)==> This removes the element at index 1\n",
    "The removed value can be stored in a variable\n",
    "if insex is not given then by default it removes element from index = -1"
   ]
  },
  {
   "cell_type": "markdown",
   "id": "b11538c5",
   "metadata": {},
   "source": [
    "### 12. Describe how list values and string values are identical.?\n"
   ]
  },
  {
   "cell_type": "markdown",
   "id": "6f9e9e6c",
   "metadata": {},
   "source": [
    "Lists are similar to strings which are ordered collection of characters. "
   ]
  },
  {
   "cell_type": "markdown",
   "id": "a9b20708",
   "metadata": {},
   "source": [
    "### 13. What's the difference between tuples and lists?\n",
    "\n",
    "A. There is no much difference between lists and tuples. Lists are mutable where as tuples are immutable."
   ]
  },
  {
   "cell_type": "markdown",
   "id": "aebf7d44",
   "metadata": {},
   "source": [
    "### 14.How do you type a tuple value that only contains the integer 42?\n",
    "\n",
    "A. t=(42,)====> This is a tuple  having only one value"
   ]
  },
  {
   "cell_type": "markdown",
   "id": "4d1d8cdd",
   "metadata": {},
   "source": [
    "### 15.How do you get a list value's tuple form? How do you get a tuple value's list form?\n",
    "\n",
    "A. t = ([1,2],[3,4,5])\n",
    "   To access the list elements we have to access the list and then access the inside element\n",
    "   eg: to access 3 we have to write\n",
    "   t[1][0]"
   ]
  },
  {
   "cell_type": "markdown",
   "id": "b6e2abce",
   "metadata": {},
   "source": [
    "### 16. Variables that \"contain\" list values are not necessarily lists themselves. Instead, what do they contain?\n",
    "\n",
    "A. Variables that contain list value are not necessarily lists themselves, instead they can be a tuple, dictionary,set ( I didnt understand the question exactly. So just wrote for what I understood)"
   ]
  },
  {
   "cell_type": "markdown",
   "id": "9b249f71",
   "metadata": {},
   "source": [
    "### 17.How do you distinguish between copy.copy() and copy.deepcopy()?\n",
    "\n",
    "A. deepcopy()\n",
    "Deep copy is a process in which copying process occurs recursively.In case of deep copy a copy of object is copied to other object. It means that any changes made to a copy of object do not reflect in the original object. In python this is implemented using the deepcopy() function\n",
    "\n",
    "\n"
   ]
  },
  {
   "cell_type": "code",
   "execution_count": 36,
   "id": "1e8c95e2",
   "metadata": {},
   "outputs": [
    {
     "name": "stdout",
     "output_type": "stream",
     "text": [
      "[[1, 2, 3], [20, 5], [6, 7]]\n",
      "[[1, 2, 3], [4, 5], [6, 7]]\n"
     ]
    }
   ],
   "source": [
    "#deepcopy()\n",
    "import copy\n",
    "\n",
    "l1=[[1,2,3],[4,5],[6,7]]\n",
    "\n",
    "l2 = copy.deepcopy(l1)\n",
    "l2[1][0] = 20\n",
    "print(l2)\n",
    "print(l1)"
   ]
  },
  {
   "cell_type": "code",
   "execution_count": 31,
   "id": "c8104b84",
   "metadata": {},
   "outputs": [
    {
     "name": "stdout",
     "output_type": "stream",
     "text": [
      "[[1, 2, 3], [4, 5]]\n"
     ]
    },
    {
     "data": {
      "text/plain": [
       "[[1, 2, 3], [4, 100]]"
      ]
     },
     "execution_count": 31,
     "metadata": {},
     "output_type": "execute_result"
    }
   ],
   "source": [
    "#shallow copy w.r.t nested sublist\n",
    "import copy\n",
    "l1 = [[1,2,3],[4,5]]\n",
    "print(l1)\n",
    "\n",
    "l2 = l1.copy()\n",
    "\n",
    "l1[1][1] =100\n",
    "l2\n",
    "# It is referring to the same object inside a nested list and hence changing one variable reflects the other\n",
    "\n"
   ]
  },
  {
   "cell_type": "code",
   "execution_count": null,
   "id": "7f2b7a4f",
   "metadata": {},
   "outputs": [],
   "source": []
  }
 ],
 "metadata": {
  "kernelspec": {
   "display_name": "Python 3 (ipykernel)",
   "language": "python",
   "name": "python3"
  },
  "language_info": {
   "codemirror_mode": {
    "name": "ipython",
    "version": 3
   },
   "file_extension": ".py",
   "mimetype": "text/x-python",
   "name": "python",
   "nbconvert_exporter": "python",
   "pygments_lexer": "ipython3",
   "version": "3.8.10"
  }
 },
 "nbformat": 4,
 "nbformat_minor": 5
}
