{
 "cells": [
  {
   "cell_type": "markdown",
   "id": "cffe88b3",
   "metadata": {},
   "source": [
    "### 1. Why are functions advantageous to have in your programs?\n",
    "A. Functions are advantageous to have in our program because the code can be reused instead of again developing from scratch\n"
   ]
  },
  {
   "cell_type": "markdown",
   "id": "3b14ab98",
   "metadata": {},
   "source": [
    "### 2. When does the code in a function run: when it's specified or when it's called?\n",
    "A. The code in function run when it's called and not when it's specified"
   ]
  },
  {
   "cell_type": "markdown",
   "id": "ffb98e17",
   "metadata": {},
   "source": [
    "### 3. What statement creates a function?\n",
    "A. The def <functionName>() statement creates the function"
   ]
  },
  {
   "cell_type": "markdown",
   "id": "5b4a581a",
   "metadata": {},
   "source": [
    "### 4.What is the difference between a function and a function call?\n",
    "A. function call is invoking or calling that function. A function is a procedure to achieve a particular result "
   ]
  },
  {
   "cell_type": "markdown",
   "id": "cbb822d6",
   "metadata": {},
   "source": [
    "### 5.How many global scopes are there in a Python program? How many local scopes?\n",
    "A. "
   ]
  },
  {
   "cell_type": "markdown",
   "id": "b1fe5976",
   "metadata": {},
   "source": [
    "### 6. What happens to variables in a local scope when the function call returns?\n",
    "A. When the function call returns the variables in the local scope are terminated."
   ]
  },
  {
   "cell_type": "markdown",
   "id": "39caf0df",
   "metadata": {},
   "source": [
    "### 7. What is the concept of a return value? Is it possible to have a return value in an expression?\n",
    "A. return value in function returns the specified value and cursor moves to the position from where it is called.\n",
    "No We cannot have return value in an expression"
   ]
  },
  {
   "cell_type": "markdown",
   "id": "925770a2",
   "metadata": {},
   "source": [
    "### 8. If a function does not have a return statement, what is the return value of a call to that function?\n",
    "A. If a function does not have a return statement then the return value of a call to that function is *None*"
   ]
  },
  {
   "cell_type": "markdown",
   "id": "cbd12e59",
   "metadata": {},
   "source": [
    "### 9. How do you make a function variable refer to the global variable?\n",
    "A. In order to make function variable refer to global variable we create the local variable same as global variable.\n"
   ]
  },
  {
   "cell_type": "markdown",
   "id": "941b4fc0",
   "metadata": {},
   "source": [
    "### 10.What is the data type of None?\n",
    "A. None is the data type of the class NoneType Object."
   ]
  },
  {
   "cell_type": "markdown",
   "id": "8ac3909d",
   "metadata": {},
   "source": [
    "### 11. What does the sentence import areallyourpetsnamederic do?\n",
    "A. That import statement imports a module named areallyourpetsnamederic. It imports all the methods present inside that module. "
   ]
  },
  {
   "cell_type": "markdown",
   "id": "d6457644",
   "metadata": {},
   "source": [
    "### 12. If you had a bacon() feature in a spam module, what would you call it after importing spam?\n",
    "A. If we had a bacon() feature in a spam module, then we call it as spam.bacon() after importing spam"
   ]
  },
  {
   "cell_type": "markdown",
   "id": "6e7a55f6",
   "metadata": {},
   "source": [
    "### 13. What can you do to save a programme from crashing if it encounters an error?\n",
    "A. To save programme from carshing when it encounters error is to use the error handling and notify the user why the error has occured.\n"
   ]
  },
  {
   "cell_type": "markdown",
   "id": "76877aba",
   "metadata": {},
   "source": [
    "### 14. What is the purpose of the try clause? What is the purpose of the except clause?\n",
    "A. Try and Except statement is used to handle errors within our code in python.Try block is used to check the code for some errors. The code inside the try block will execute when there is no error. Where as code inside catch block is executed whenever program encounters some error in preceeding try block."
   ]
  },
  {
   "cell_type": "code",
   "execution_count": null,
   "id": "b3a8b23d",
   "metadata": {},
   "outputs": [],
   "source": []
  }
 ],
 "metadata": {
  "kernelspec": {
   "display_name": "Python 3 (ipykernel)",
   "language": "python",
   "name": "python3"
  },
  "language_info": {
   "codemirror_mode": {
    "name": "ipython",
    "version": 3
   },
   "file_extension": ".py",
   "mimetype": "text/x-python",
   "name": "python",
   "nbconvert_exporter": "python",
   "pygments_lexer": "ipython3",
   "version": "3.8.10"
  }
 },
 "nbformat": 4,
 "nbformat_minor": 5
}
